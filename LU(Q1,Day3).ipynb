{
  "nbformat": 4,
  "nbformat_minor": 0,
  "metadata": {
    "colab": {
      "name": "LU(Q1,Day3).ipynb",
      "provenance": []
    },
    "kernelspec": {
      "name": "python3",
      "display_name": "Python 3"
    }
  },
  "cells": [
    {
      "cell_type": "code",
      "metadata": {
        "id": "VC1Cn0H3Frpm",
        "colab_type": "code",
        "colab": {
          "base_uri": "https://localhost:8080/",
          "height": 50
        },
        "outputId": "26335bcb-3444-4482-c12d-66ed5769e119"
      },
      "source": [
        "altitude = int(input(\"enter the altitude\"))\n",
        "if (altitude <= 1000):\n",
        "    print(\"safe for landing\")\n",
        "elif (altitude > 1000):\n",
        "\n",
        "    if (altitude<=5000):\n",
        "        print(\"bring it further down to 1000ft\")\n",
        "    else:\n",
        "        print(\"turn around and attempt later\")"
      ],
      "execution_count": 1,
      "outputs": [
        {
          "output_type": "stream",
          "text": [
            "enter the altitude5674\n",
            "turn around and attempt later\n"
          ],
          "name": "stdout"
        }
      ]
    }
  ]
}