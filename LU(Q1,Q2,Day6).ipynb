{
  "nbformat": 4,
  "nbformat_minor": 0,
  "metadata": {
    "colab": {
      "name": "LU(Q1,Q2,Day6).ipynb",
      "provenance": [],
      "collapsed_sections": []
    },
    "kernelspec": {
      "name": "python3",
      "display_name": "Python 3"
    }
  },
  "cells": [
    {
      "cell_type": "code",
      "metadata": {
        "id": "2Ckn6FL4Ac9W",
        "colab_type": "code",
        "colab": {}
      },
      "source": [
        "class bankAccount():\n",
        "    ownerName='Akshat Sharma'\n",
        "    account=100000\n",
        "    def getattr(self):\n",
        "      print(ownerName)\n",
        "      print(account)\n",
        "    def deposit(self,x):\n",
        "      self.account=self.account+x\n",
        "    def withdrawl(self,x):\n",
        "      if x<=self.account:\n",
        "        account=account-x\n",
        "      else:\n",
        "        print(\"Withdrawl amount is more than balance\")   "
      ],
      "execution_count": 86,
      "outputs": []
    },
    {
      "cell_type": "code",
      "metadata": {
        "id": "TfWjftU8D-gN",
        "colab_type": "code",
        "colab": {
          "base_uri": "https://localhost:8080/",
          "height": 50
        },
        "outputId": "353fe9bc-91b8-4e25-cdba-5e9922fd9388"
      },
      "source": [
        "ac=a1.withdrawl(500000)\n",
        "print(ac)"
      ],
      "execution_count": 87,
      "outputs": [
        {
          "output_type": "stream",
          "text": [
            "Withdrawl amount is more than balance\n",
            "None\n"
          ],
          "name": "stdout"
        }
      ]
    },
    {
      "cell_type": "code",
      "metadata": {
        "id": "lkXGsiXTI_zd",
        "colab_type": "code",
        "colab": {
          "base_uri": "https://localhost:8080/",
          "height": 34
        },
        "outputId": "8a6a9bc3-f1cb-4c75-f649-bce1bf1da417"
      },
      "source": [
        "a1.deposit(500)\n",
        "print(a1.account)"
      ],
      "execution_count": 88,
      "outputs": [
        {
          "output_type": "stream",
          "text": [
            "100500\n"
          ],
          "name": "stdout"
        }
      ]
    },
    {
      "cell_type": "code",
      "metadata": {
        "id": "3B0Grg-hR-w4",
        "colab_type": "code",
        "colab": {}
      },
      "source": [
        "class cone():\n",
        "  def volume(self,x,y):\n",
        "    self.r=x\n",
        "    self.h=y\n",
        "    vol=3.14*(self.r**2)*self.h/3\n",
        "    print(vol)\n",
        "  def surface(self,x,y):\n",
        "    self.r=x\n",
        "    self.h=y\n",
        "    surf=3.14*(self.r**2)+3.14*self.r*((self.r**2+self.h**2)**1/2)\n",
        "    print(surf)"
      ],
      "execution_count": 103,
      "outputs": []
    },
    {
      "cell_type": "code",
      "metadata": {
        "id": "zwGX_NJrUDRL",
        "colab_type": "code",
        "colab": {
          "base_uri": "https://localhost:8080/",
          "height": 34
        },
        "outputId": "ee6670e9-e612-4111-b1a0-427eb15f9779"
      },
      "source": [
        "a=cone() \n",
        "a.volume(2,3)"
      ],
      "execution_count": 104,
      "outputs": [
        {
          "output_type": "stream",
          "text": [
            "12.56\n"
          ],
          "name": "stdout"
        }
      ]
    },
    {
      "cell_type": "code",
      "metadata": {
        "id": "ovNpyphQVRPW",
        "colab_type": "code",
        "colab": {
          "base_uri": "https://localhost:8080/",
          "height": 34
        },
        "outputId": "72ade0c7-69d9-43c1-e75b-5159a2fd4024"
      },
      "source": [
        "a.surface(2,3)"
      ],
      "execution_count": 105,
      "outputs": [
        {
          "output_type": "stream",
          "text": [
            "53.38\n"
          ],
          "name": "stdout"
        }
      ]
    }
  ]
}