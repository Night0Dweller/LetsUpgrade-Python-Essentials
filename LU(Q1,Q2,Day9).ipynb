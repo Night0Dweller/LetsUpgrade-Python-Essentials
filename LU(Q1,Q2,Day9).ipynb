{
  "nbformat": 4,
  "nbformat_minor": 0,
  "metadata": {
    "colab": {
      "name": "LU(Q1,Q2,Day9).ipynb",
      "provenance": []
    },
    "kernelspec": {
      "name": "python3",
      "display_name": "Python 3"
    }
  },
  "cells": [
    {
      "cell_type": "code",
      "metadata": {
        "id": "QKD0cdzKlZeA",
        "colab_type": "code",
        "colab": {
          "base_uri": "https://localhost:8080/",
          "height": 34
        },
        "outputId": "e2774294-65ae-4c56-f469-8695c1c6c0f5"
      },
      "source": [
        "%%writefile some_code.ipynb\n",
        "'''\n",
        "Program to find whether a number is prime or not\n",
        "'''\n",
        "num = int(input(\"Enter a number: \"))\n",
        "if num > 1:\n",
        "    for i in range(2,num):\n",
        "        if (num % i) == 0:\n",
        "            print(num,\"is not a prime number\")\n",
        "            print(i,\"times\",num//i,\"is\",num)\n",
        "            break\n",
        "    else:\n",
        "        print(num,\"is a prime number\")\n",
        "else:\n",
        "    print(num,\"is not a prime number\")\n",
        "\n"
      ],
      "execution_count": null,
      "outputs": [
        {
          "output_type": "stream",
          "text": [
            "Overwriting some_code.ipynb\n"
          ],
          "name": "stdout"
        }
      ]
    },
    {
      "cell_type": "code",
      "metadata": {
        "id": "7uxbvg35lySs",
        "colab_type": "code",
        "colab": {
          "base_uri": "https://localhost:8080/",
          "height": 386
        },
        "outputId": "a180955e-038e-4a07-826d-481e297146ac"
      },
      "source": [
        "! pip install pylint"
      ],
      "execution_count": null,
      "outputs": [
        {
          "output_type": "stream",
          "text": [
            "Collecting pylint\n",
            "\u001b[?25l  Downloading https://files.pythonhosted.org/packages/fb/13/519c1264a134beab2be4bac8dd3e64948980a5ca7833b31cf0255b21f20a/pylint-2.6.0-py3-none-any.whl (325kB)\n",
            "\u001b[K     |████████████████████████████████| 327kB 2.9MB/s \n",
            "\u001b[?25hCollecting mccabe<0.7,>=0.6\n",
            "  Downloading https://files.pythonhosted.org/packages/87/89/479dc97e18549e21354893e4ee4ef36db1d237534982482c3681ee6e7b57/mccabe-0.6.1-py2.py3-none-any.whl\n",
            "Collecting astroid<=2.5,>=2.4.0\n",
            "\u001b[?25l  Downloading https://files.pythonhosted.org/packages/24/a8/5133f51967fb21e46ee50831c3f5dda49e976b7f915408d670b1603d41d6/astroid-2.4.2-py3-none-any.whl (213kB)\n",
            "\u001b[K     |████████████████████████████████| 215kB 8.7MB/s \n",
            "\u001b[?25hCollecting isort<6,>=4.2.5\n",
            "\u001b[?25l  Downloading https://files.pythonhosted.org/packages/d1/25/7ed95ccb07d3ce52598f5a57d002da6a18074ea8749991b10936cc20e539/isort-5.5.2-py3-none-any.whl (95kB)\n",
            "\u001b[K     |████████████████████████████████| 102kB 6.5MB/s \n",
            "\u001b[?25hRequirement already satisfied: toml>=0.7.1 in /usr/local/lib/python3.6/dist-packages (from pylint) (0.10.1)\n",
            "Requirement already satisfied: wrapt~=1.11 in /usr/local/lib/python3.6/dist-packages (from astroid<=2.5,>=2.4.0->pylint) (1.12.1)\n",
            "Collecting lazy-object-proxy==1.4.*\n",
            "\u001b[?25l  Downloading https://files.pythonhosted.org/packages/0b/dd/b1e3407e9e6913cf178e506cd0dee818e58694d9a5cd1984e3f6a8b9a10f/lazy_object_proxy-1.4.3-cp36-cp36m-manylinux1_x86_64.whl (55kB)\n",
            "\u001b[K     |████████████████████████████████| 61kB 5.9MB/s \n",
            "\u001b[?25hCollecting typed-ast<1.5,>=1.4.0; implementation_name == \"cpython\" and python_version < \"3.8\"\n",
            "\u001b[?25l  Downloading https://files.pythonhosted.org/packages/90/ed/5459080d95eb87a02fe860d447197be63b6e2b5e9ff73c2b0a85622994f4/typed_ast-1.4.1-cp36-cp36m-manylinux1_x86_64.whl (737kB)\n",
            "\u001b[K     |████████████████████████████████| 747kB 10.9MB/s \n",
            "\u001b[?25hRequirement already satisfied: six~=1.12 in /usr/local/lib/python3.6/dist-packages (from astroid<=2.5,>=2.4.0->pylint) (1.15.0)\n",
            "Installing collected packages: mccabe, lazy-object-proxy, typed-ast, astroid, isort, pylint\n",
            "Successfully installed astroid-2.4.2 isort-5.5.2 lazy-object-proxy-1.4.3 mccabe-0.6.1 pylint-2.6.0 typed-ast-1.4.1\n"
          ],
          "name": "stdout"
        }
      ]
    },
    {
      "cell_type": "code",
      "metadata": {
        "id": "swQ5NI2Il1N1",
        "colab_type": "code",
        "colab": {
          "base_uri": "https://localhost:8080/",
          "height": 84
        },
        "outputId": "dd323ac8-02aa-4035-86ea-52b384e65101"
      },
      "source": [
        "! pylint \"some_code.ipynb\""
      ],
      "execution_count": null,
      "outputs": [
        {
          "output_type": "stream",
          "text": [
            "\n",
            "-------------------------------------------------------------------\n",
            "Your code has been rated at 10.00/10 (previous run: 8.89/10, +1.11)\n",
            "\n"
          ],
          "name": "stdout"
        }
      ]
    },
    {
      "cell_type": "code",
      "metadata": {
        "id": "NBPT6A1doVuS",
        "colab_type": "code",
        "colab": {
          "base_uri": "https://localhost:8080/",
          "height": 101
        },
        "outputId": "3050ec4e-5700-4bee-d548-50d915bd16e1"
      },
      "source": [
        "import unittest\n",
        "\n",
        "class TestPrime(unittest.TestCase):\n",
        "    def test_Prime(self,x):\n",
        "        self.p=x;\n",
        "        if num > 1:\n",
        "           for i in range(2,num):\n",
        "              if (num % i) == 0:\n",
        "                 print(num,\"is not a prime number\")\n",
        "                 print(i,\"times\",num//i,\"is\",num)\n",
        "                 break\n",
        "              else:\n",
        "                 print(num,\"is a prime number\")\n",
        "        else:\n",
        "            print(num,\"is not a prime number\")\n",
        "\n",
        "\n",
        "    \n",
        "if __name__ == '__main__':\n",
        "    unittest.main(3,argv=['first-arg-is-ignored'],exit=False)"
      ],
      "execution_count": null,
      "outputs": [
        {
          "output_type": "stream",
          "text": [
            "\n",
            "----------------------------------------------------------------------\n",
            "Ran 0 tests in 0.000s\n",
            "\n",
            "OK\n"
          ],
          "name": "stderr"
        }
      ]
    },
    {
      "cell_type": "code",
      "metadata": {
        "id": "iX9Wql05PT6T",
        "colab_type": "code",
        "colab": {}
      },
      "source": [
        "def getArmstrongnum(lst):\n",
        "   for num in lst:  \n",
        "      sum = 0  \n",
        "      temp = num  \n",
        "      while temp > 0:  \n",
        "          digit = temp % 10  \n",
        "          sum += digit ** 3  \n",
        "          temp //= 10  \n",
        "          if num == sum:  \n",
        "              yield num  "
      ],
      "execution_count": 22,
      "outputs": []
    },
    {
      "cell_type": "code",
      "metadata": {
        "id": "IaIMry_mREG6",
        "colab_type": "code",
        "colab": {
          "base_uri": "https://localhost:8080/",
          "height": 34
        },
        "outputId": "e72953b1-86c8-48e9-c640-73a4eab81bb1"
      },
      "source": [
        "lst= list (range(1000))\n",
        "a=list ( getArmstrongnum (lst) )\n",
        "print(a)"
      ],
      "execution_count": 26,
      "outputs": [
        {
          "output_type": "stream",
          "text": [
            "[1, 64, 125, 153, 216, 370, 371, 407, 729]\n"
          ],
          "name": "stdout"
        }
      ]
    }
  ]
}