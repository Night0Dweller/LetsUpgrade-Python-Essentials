{
  "nbformat": 4,
  "nbformat_minor": 0,
  "metadata": {
    "colab": {
      "name": "LU(Q1,Q2,Day8).ipynb",
      "provenance": []
    },
    "kernelspec": {
      "name": "python3",
      "display_name": "Python 3"
    }
  },
  "cells": [
    {
      "cell_type": "code",
      "metadata": {
        "id": "hfNslNiaTl6o",
        "colab_type": "code",
        "colab": {
          "base_uri": "https://localhost:8080/",
          "height": 134
        },
        "outputId": "9cd3752e-49ea-4b90-a8a5-5265bd59e402"
      },
      "source": [
        "def FibD(n):  \n",
        "   if n <= 1:  \n",
        "       return n  \n",
        "   else:  \n",
        "       return(FibD(n-1) + FibD(n-2))  \n",
        "nterms = int(input(\"Enter the terms? \"))  \n",
        "if nterms <= 0:\n",
        "   print(\"Please enter a positive integer\")  \n",
        "else:  \n",
        "   print(\"Fibonacci sequence:\")  \n",
        "   for i in range(nterms):  \n",
        "       print(FibD(i))"
      ],
      "execution_count": 15,
      "outputs": [
        {
          "output_type": "stream",
          "text": [
            "Enter the terms? 5\n",
            "Fibonacci sequence:\n",
            "0\n",
            "1\n",
            "1\n",
            "2\n",
            "3\n"
          ],
          "name": "stdout"
        }
      ]
    },
    {
      "cell_type": "code",
      "metadata": {
        "id": "TeGYkPyRbu8O",
        "colab_type": "code",
        "colab": {
          "base_uri": "https://localhost:8080/",
          "height": 50
        },
        "outputId": "8eb820c9-c014-4585-ac6d-1f36f897446d"
      },
      "source": [
        "try :\n",
        "    file = open(\"TEST.txt\",\"r\")\n",
        "    file.write(\"We are dividing negative integer with 0\")\n",
        "except Exception as e:\n",
        "    print(e)\n",
        "try :        \n",
        "    file.write(-2/0)\n",
        "    file.close()\n",
        "    print(\"Success\")\n",
        "except Exception as e:\n",
        "    print(e)"
      ],
      "execution_count": 21,
      "outputs": [
        {
          "output_type": "stream",
          "text": [
            "not writable\n",
            "division by zero\n"
          ],
          "name": "stdout"
        }
      ]
    }
  ]
}